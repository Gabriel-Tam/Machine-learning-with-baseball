{
 "cells": [
  {
   "cell_type": "markdown",
   "metadata": {},
   "source": [
    "# START whit proyect"
   ]
  },
  {
   "cell_type": "markdown",
   "metadata": {},
   "source": [
    "#### hola a todos, aqui inicio mi odisea :3 \n"
   ]
  },
  {
   "cell_type": "code",
   "execution_count": 1,
   "metadata": {},
   "outputs": [],
   "source": [
    "from pybaseball import pitching_stats\n",
    "\n",
    "START = 2022\n",
    "END = 2023\n",
    "\n",
    "pitching = pitching_stats(START,END, qual= 30)\n",
    "\n",
    "pitching.to_csv(\"pitchingData_2000-2023.csv\")\n"
   ]
  }
 ],
 "metadata": {
  "kernelspec": {
   "display_name": "Python 3",
   "language": "python",
   "name": "python3"
  },
  "language_info": {
   "codemirror_mode": {
    "name": "ipython",
    "version": 3
   },
   "file_extension": ".py",
   "mimetype": "text/x-python",
   "name": "python",
   "nbconvert_exporter": "python",
   "pygments_lexer": "ipython3",
   "version": "3.10.12"
  }
 },
 "nbformat": 4,
 "nbformat_minor": 2
}
