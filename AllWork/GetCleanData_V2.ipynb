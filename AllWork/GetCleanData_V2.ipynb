{
 "cells": [
  {
   "cell_type": "markdown",
   "metadata": {},
   "source": [
    "# Obtain and clean MLB pticher data from 2008-2023"
   ]
  },
  {
   "cell_type": "markdown",
   "metadata": {},
   "source": [
    "#### First we must obtain the data directly from the MLB platform, so we will import \"pitching_stats\" and as restrictions we will have to have pitched at least 30 innings and also be in the ranges from 2008 to 2023."
   ]
  },
  {
   "cell_type": "code",
   "execution_count": 40,
   "metadata": {},
   "outputs": [],
   "source": [
    "from pybaseball import pitching_stats\n",
    "\n",
    "START = 2008\n",
    "END = 2023\n",
    "\n",
    "pitching = pitching_stats(START,END, qual= 30)\n",
    "\n",
    "pitching.to_csv(\"pitchingData_2008-2023.csv\")"
   ]
  },
  {
   "cell_type": "markdown",
   "metadata": {},
   "source": [
    "#### We visualize our data obtained, the types there are and their quantity"
   ]
  },
  {
   "cell_type": "code",
   "execution_count": 9,
   "metadata": {},
   "outputs": [
    {
     "name": "stdout",
     "output_type": "stream",
     "text": [
      "-----datos de tipo objeto-----\n"
     ]
    },
    {
     "data": {
      "text/plain": [
       "Name       object\n",
       "Team       object\n",
       "Dollars    object\n",
       "Age Rng    object\n",
       "dtype: object"
      ]
     },
     "execution_count": 9,
     "metadata": {},
     "output_type": "execute_result"
    }
   ],
   "source": [
    "# Importar pandas y leerlo del archivo CSV creado\n",
    "import pandas as pd\n",
    "pitching = pd.read_csv(\"pitchingData_2008-2023.csv\")\n",
    "\n",
    "#print(\"-----all Data obtein-----\")\n",
    "#print(pitching.head())\n",
    "print(\"-----datos de tipo objeto-----\")\n",
    "pitching.dtypes[pitching.dtypes == \"object\"]"
   ]
  },
  {
   "cell_type": "markdown",
   "metadata": {},
   "source": [
    "### Lo que son las columnas de \"Dollars\" y \"Age Rng\" indican valores que no son relevantes, entonces se proceedera a eliminarlos, no obstante, la columna de Team tiene valores que necesitaremos convertir a numbers para poder trabajr. "
   ]
  },
  {
   "cell_type": "code",
   "execution_count": 5,
   "metadata": {},
   "outputs": [],
   "source": [
    "import pandas as pd\n",
    "\n",
    "df = pd.read_csv(\"/home/gabriel/OneDrive/AAAIMX/ICCBR/Data_Baseball/AllWork/pitchingData_2008-2023.csv\")\n",
    "columns_objetcs = df.select_dtypes(exclude=['number']).columns\n",
    "\n",
    "\n",
    "df[\"Team\"] = df[\"Team\"].astype(\"category\").cat.codes #Remplazar los valores de la columna de Team de objeto a numeros\n",
    "df.drop(columns=[\"Dollars\", \"Age Rng\"], inplace=True)# Eliminar las columnas \"Dollars\" y \"Age Rng\" del DataFrame\n",
    "\n",
    "# Guardar el DataFrame modificado en un nuevo archivo CSV\n",
    "df.to_csv(\"/home/gabriel/OneDrive/AAAIMX/ICCBR/Data_Baseball/AllWork/pitchingData_TeamCode_2008-2023.csv\", index=False)"
   ]
  }
 ],
 "metadata": {
  "kernelspec": {
   "display_name": "Python 3",
   "language": "python",
   "name": "python3"
  },
  "language_info": {
   "codemirror_mode": {
    "name": "ipython",
    "version": 3
   },
   "file_extension": ".py",
   "mimetype": "text/x-python",
   "name": "python",
   "nbconvert_exporter": "python",
   "pygments_lexer": "ipython3",
   "version": "3.10.12"
  }
 },
 "nbformat": 4,
 "nbformat_minor": 2
}
